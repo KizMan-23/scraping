{
 "cells": [
  {
   "cell_type": "code",
   "execution_count": 1,
   "id": "dc17b9a7-3237-4f38-a91f-3ff560a96c09",
   "metadata": {},
   "outputs": [],
   "source": [
    "import pandas as pd\n",
    "import json\n",
    "import os\n"
   ]
  },
  {
   "cell_type": "code",
   "execution_count": 156,
   "id": "b573b05e-16c2-4546-94c9-000f77a61a7b",
   "metadata": {},
   "outputs": [],
   "source": [
    "#CLEAN AND PREP EVERY DATA FROM WALMART SCRAPING\n",
    "columns = [\"brand_name\", \"product_description\", \"full_price\", \"discount_price\", \"avg_rating\", \n",
    "           \"number of rating\", \"image_url\", \"product_details\", \"available_option\"]"
   ]
  },
  {
   "cell_type": "code",
   "execution_count": 157,
   "id": "83d7ec82-28bd-4dc2-aa13-c1031137ee09",
   "metadata": {},
   "outputs": [],
   "source": [
    "#LOAD CSV FILES\n",
    "\n",
    "camera_data = pd.read_csv(\"C:/Users./Hp Pc/scraping/walmart/cameras_data.csv\", encoding='utf-8')\n",
    "computer_data = pd.read_csv(\"C:/Users/Hp Pc/scraping/walmart/computer_data.csv\", encoding='utf-8')\n",
    "keyboard_data = pd.read_csv(\"C:/Users/Hp Pc/scraping/walmart/keyboard_data.csv\", encoding='utf-8')\n",
    "laptops_data = pd.read_csv(\"C:/Users/Hp Pc/scraping/walmart/laptops_data.csv\", encoding='utf-8')\n",
    "power_bank_data = pd.read_csv(\"C:/Users/Hp Pc/scraping/walmart/power_bank_data.csv\", encoding='utf-8')\n",
    "speakers_data = pd.read_csv(\"C:/Users/Hp Pc/scraping/walmart/speakers_data.csv\", encoding='utf-8')\n",
    "television_data = pd.read_csv(\"C:/Users/Hp Pc/scraping/walmart/television_data.csv\", encoding='utf-8')\n",
    "men_watches_data = pd.read_csv(\"C:/Users/Hp Pc/scraping/walmart/watches_for_men_data.csv\", encoding='utf-8')"
   ]
  },
  {
   "cell_type": "code",
   "execution_count": 158,
   "id": "2fc3a2e5-30a5-46a1-8f3d-133737c16e18",
   "metadata": {},
   "outputs": [],
   "source": [
    "search_queries = [\"laptops\", \"cameras\", 'keyboard', \"computer\", \"television\", \"speakers\", \"power_bank\", \"watches_for_men\"]\n",
    "\n",
    "base_path  = r\"C:\\Users\\Hp Pc\\scraping\\walmart\"\n",
    "\n",
    "\n",
    "for queries in search_queries:\n",
    "    file_path = os.path.join(base_path,f\"{queries}_data.csv\")\n",
    "\n",
    "    name = f\"{queries}\"\n",
    "    name = pd.read_csv(file_path,  encoding='utf-8')\n"
   ]
  },
  {
   "cell_type": "code",
   "execution_count": 159,
   "id": "57239cc2-daec-4af2-b659-3c4cfba8b552",
   "metadata": {},
   "outputs": [],
   "source": [
    "camera_data.columns = columns\n",
    "computer_data.columns = columns\n",
    "keyboard_data.columns = columns\n",
    "laptops_data.columns = columns\n",
    "speakers_data.columns = columns\n",
    "power_bank_data.columns = columns\n",
    "television_data.columns = columns\n",
    "men_watches_data.columns = columns"
   ]
  },
  {
   "cell_type": "code",
   "execution_count": 160,
   "id": "5c4c6cf8-9f6f-48a9-9050-2dc5af473f22",
   "metadata": {},
   "outputs": [
    {
     "data": {
      "text/html": [
       "<div>\n",
       "<style scoped>\n",
       "    .dataframe tbody tr th:only-of-type {\n",
       "        vertical-align: middle;\n",
       "    }\n",
       "\n",
       "    .dataframe tbody tr th {\n",
       "        vertical-align: top;\n",
       "    }\n",
       "\n",
       "    .dataframe thead th {\n",
       "        text-align: right;\n",
       "    }\n",
       "</style>\n",
       "<table border=\"1\" class=\"dataframe\">\n",
       "  <thead>\n",
       "    <tr style=\"text-align: right;\">\n",
       "      <th></th>\n",
       "      <th>brand_name</th>\n",
       "      <th>product_description</th>\n",
       "      <th>full_price</th>\n",
       "      <th>discount_price</th>\n",
       "      <th>avg_rating</th>\n",
       "      <th>number of rating</th>\n",
       "      <th>image_url</th>\n",
       "      <th>product_details</th>\n",
       "      <th>available_option</th>\n",
       "    </tr>\n",
       "  </thead>\n",
       "  <tbody>\n",
       "    <tr>\n",
       "      <th>0</th>\n",
       "      <td>Visit the Canon Store</td>\n",
       "      <td>Canon EOS R100 Mirrorless Camera with 18-45mm ...</td>\n",
       "      <td>NaN</td>\n",
       "      <td>$598.00</td>\n",
       "      <td>(4.4)</td>\n",
       "      <td>7 ratings</td>\n",
       "      <td>['https://i5.walmartimages.com/seo/Canon-EOS-R...</td>\n",
       "      <td>[]</td>\n",
       "      <td>['selected, Black, $598.00Black$598.00', 'Blac...</td>\n",
       "    </tr>\n",
       "    <tr>\n",
       "      <th>1</th>\n",
       "      <td>Visit the Canon Store</td>\n",
       "      <td>Canon EOS R100 Mirrorless Camera with 18-45mm ...</td>\n",
       "      <td>NaN</td>\n",
       "      <td>$598.00</td>\n",
       "      <td>(4.4)</td>\n",
       "      <td>7 ratings</td>\n",
       "      <td>['https://i5.walmartimages.com/seo/Canon-EOS-R...</td>\n",
       "      <td>[]</td>\n",
       "      <td>['selected, Black, $598.00Black$598.00', 'Blac...</td>\n",
       "    </tr>\n",
       "    <tr>\n",
       "      <th>2</th>\n",
       "      <td>Wholesale Photo</td>\n",
       "      <td>Canon EOS R100 Mirrorless Camera - 6052C002</td>\n",
       "      <td>NaN</td>\n",
       "      <td>NaN</td>\n",
       "      <td>(4.4)</td>\n",
       "      <td>7 ratings</td>\n",
       "      <td>[]</td>\n",
       "      <td>[]</td>\n",
       "      <td>['Black, $598.00Black$598.00', 'selected, Blac...</td>\n",
       "    </tr>\n",
       "    <tr>\n",
       "      <th>3</th>\n",
       "      <td>Visit the Canon Store</td>\n",
       "      <td>Canon EOS 2000D / Rebel T7 DSLR Camera 24.1MP ...</td>\n",
       "      <td>NaN</td>\n",
       "      <td>NaN</td>\n",
       "      <td>(4.3)</td>\n",
       "      <td>12 ratings</td>\n",
       "      <td>[]</td>\n",
       "      <td>[]</td>\n",
       "      <td>[]</td>\n",
       "    </tr>\n",
       "    <tr>\n",
       "      <th>4</th>\n",
       "      <td>Visit the NBD Store</td>\n",
       "      <td>NBD Digital Camera 4K Ultra HD 48MP All-in-One...</td>\n",
       "      <td>$499.00</td>\n",
       "      <td>$116.96</td>\n",
       "      <td>(3.3)</td>\n",
       "      <td>1,103 ratings</td>\n",
       "      <td>[]</td>\n",
       "      <td>[]</td>\n",
       "      <td>[]</td>\n",
       "    </tr>\n",
       "    <tr>\n",
       "      <th>...</th>\n",
       "      <td>...</td>\n",
       "      <td>...</td>\n",
       "      <td>...</td>\n",
       "      <td>...</td>\n",
       "      <td>...</td>\n",
       "      <td>...</td>\n",
       "      <td>...</td>\n",
       "      <td>...</td>\n",
       "      <td>...</td>\n",
       "    </tr>\n",
       "    <tr>\n",
       "      <th>92</th>\n",
       "      <td>Visit the Canon Store</td>\n",
       "      <td>Canon PowerShot G7 X Digital DIGIC 7 WiFi NFC ...</td>\n",
       "      <td>NaN</td>\n",
       "      <td>NaN</td>\n",
       "      <td>(5.0)</td>\n",
       "      <td>1 rating</td>\n",
       "      <td>[]</td>\n",
       "      <td>[]</td>\n",
       "      <td>[]</td>\n",
       "    </tr>\n",
       "    <tr>\n",
       "      <th>93</th>\n",
       "      <td>Visit the Night Owl Store</td>\n",
       "      <td>Night Owl 10 Channel 4K Wi-Fi NVR with 1TB Har...</td>\n",
       "      <td>NaN</td>\n",
       "      <td>NaN</td>\n",
       "      <td>(4.3)</td>\n",
       "      <td>152 ratings</td>\n",
       "      <td>['https://i5.walmartimages.com/seo/Night-Owl-1...</td>\n",
       "      <td>[]</td>\n",
       "      <td>[]</td>\n",
       "    </tr>\n",
       "    <tr>\n",
       "      <th>94</th>\n",
       "      <td>Blackmagic Design</td>\n",
       "      <td>BLACKMAGIC DESIGN 6K Cinema Camera (CINECAM60K...</td>\n",
       "      <td>NaN</td>\n",
       "      <td>NaN</td>\n",
       "      <td>(3.0)</td>\n",
       "      <td>1 rating</td>\n",
       "      <td>[]</td>\n",
       "      <td>[]</td>\n",
       "      <td>[]</td>\n",
       "    </tr>\n",
       "    <tr>\n",
       "      <th>95</th>\n",
       "      <td>Polaroid</td>\n",
       "      <td>Polaroid Color i-Type Film -Double Pack</td>\n",
       "      <td>NaN</td>\n",
       "      <td>NaN</td>\n",
       "      <td>(4.4)</td>\n",
       "      <td>195 ratings</td>\n",
       "      <td>[]</td>\n",
       "      <td>[]</td>\n",
       "      <td>['8, $16.778$16.77', 'selected, 16, $25.8616$2...</td>\n",
       "    </tr>\n",
       "    <tr>\n",
       "      <th>96</th>\n",
       "      <td>Polaroid</td>\n",
       "      <td>Polaroid Color i-Type Film -Double Pack</td>\n",
       "      <td>NaN</td>\n",
       "      <td>NaN</td>\n",
       "      <td>(4.4)</td>\n",
       "      <td>195 ratings</td>\n",
       "      <td>[]</td>\n",
       "      <td>[]</td>\n",
       "      <td>['8, $16.778$16.77', 'selected, 16, $25.8616$2...</td>\n",
       "    </tr>\n",
       "  </tbody>\n",
       "</table>\n",
       "<p>97 rows × 9 columns</p>\n",
       "</div>"
      ],
      "text/plain": [
       "                   brand_name  \\\n",
       "0       Visit the Canon Store   \n",
       "1       Visit the Canon Store   \n",
       "2             Wholesale Photo   \n",
       "3       Visit the Canon Store   \n",
       "4         Visit the NBD Store   \n",
       "..                        ...   \n",
       "92      Visit the Canon Store   \n",
       "93  Visit the Night Owl Store   \n",
       "94          Blackmagic Design   \n",
       "95                   Polaroid   \n",
       "96                   Polaroid   \n",
       "\n",
       "                                  product_description full_price  \\\n",
       "0   Canon EOS R100 Mirrorless Camera with 18-45mm ...        NaN   \n",
       "1   Canon EOS R100 Mirrorless Camera with 18-45mm ...        NaN   \n",
       "2         Canon EOS R100 Mirrorless Camera - 6052C002        NaN   \n",
       "3   Canon EOS 2000D / Rebel T7 DSLR Camera 24.1MP ...        NaN   \n",
       "4   NBD Digital Camera 4K Ultra HD 48MP All-in-One...    $499.00   \n",
       "..                                                ...        ...   \n",
       "92  Canon PowerShot G7 X Digital DIGIC 7 WiFi NFC ...        NaN   \n",
       "93  Night Owl 10 Channel 4K Wi-Fi NVR with 1TB Har...        NaN   \n",
       "94  BLACKMAGIC DESIGN 6K Cinema Camera (CINECAM60K...        NaN   \n",
       "95            Polaroid Color i-Type Film -Double Pack        NaN   \n",
       "96            Polaroid Color i-Type Film -Double Pack        NaN   \n",
       "\n",
       "   discount_price avg_rating number of rating  \\\n",
       "0         $598.00      (4.4)        7 ratings   \n",
       "1         $598.00      (4.4)        7 ratings   \n",
       "2             NaN      (4.4)        7 ratings   \n",
       "3             NaN      (4.3)       12 ratings   \n",
       "4         $116.96      (3.3)    1,103 ratings   \n",
       "..            ...        ...              ...   \n",
       "92            NaN      (5.0)         1 rating   \n",
       "93            NaN      (4.3)      152 ratings   \n",
       "94            NaN      (3.0)         1 rating   \n",
       "95            NaN      (4.4)      195 ratings   \n",
       "96            NaN      (4.4)      195 ratings   \n",
       "\n",
       "                                            image_url product_details  \\\n",
       "0   ['https://i5.walmartimages.com/seo/Canon-EOS-R...              []   \n",
       "1   ['https://i5.walmartimages.com/seo/Canon-EOS-R...              []   \n",
       "2                                                  []              []   \n",
       "3                                                  []              []   \n",
       "4                                                  []              []   \n",
       "..                                                ...             ...   \n",
       "92                                                 []              []   \n",
       "93  ['https://i5.walmartimages.com/seo/Night-Owl-1...              []   \n",
       "94                                                 []              []   \n",
       "95                                                 []              []   \n",
       "96                                                 []              []   \n",
       "\n",
       "                                     available_option  \n",
       "0   ['selected, Black, $598.00Black$598.00', 'Blac...  \n",
       "1   ['selected, Black, $598.00Black$598.00', 'Blac...  \n",
       "2   ['Black, $598.00Black$598.00', 'selected, Blac...  \n",
       "3                                                  []  \n",
       "4                                                  []  \n",
       "..                                                ...  \n",
       "92                                                 []  \n",
       "93                                                 []  \n",
       "94                                                 []  \n",
       "95  ['8, $16.778$16.77', 'selected, 16, $25.8616$2...  \n",
       "96  ['8, $16.778$16.77', 'selected, 16, $25.8616$2...  \n",
       "\n",
       "[97 rows x 9 columns]"
      ]
     },
     "execution_count": 160,
     "metadata": {},
     "output_type": "execute_result"
    }
   ],
   "source": [
    "camera_data"
   ]
  },
  {
   "cell_type": "code",
   "execution_count": 161,
   "id": "c3abd51f-9588-4c47-8f8f-a3e112a2f345",
   "metadata": {},
   "outputs": [
    {
     "data": {
      "text/plain": [
       "brand_name              0\n",
       "product_description     0\n",
       "full_price             62\n",
       "discount_price         57\n",
       "avg_rating             31\n",
       "number of rating       31\n",
       "image_url               0\n",
       "product_details         0\n",
       "available_option        0\n",
       "dtype: int64"
      ]
     },
     "execution_count": 161,
     "metadata": {},
     "output_type": "execute_result"
    }
   ],
   "source": [
    "camera_data.isnull().sum()"
   ]
  },
  {
   "cell_type": "code",
   "execution_count": 162,
   "id": "69b2e3c0-d714-4ea0-b6eb-fbe5a4a1a143",
   "metadata": {},
   "outputs": [
    {
     "data": {
      "text/plain": [
       "0     ['https://i5.walmartimages.com/seo/Canon-EOS-R...\n",
       "1     ['https://i5.walmartimages.com/seo/Canon-EOS-R...\n",
       "2                                                    []\n",
       "3                                                    []\n",
       "4                                                    []\n",
       "                            ...                        \n",
       "92                                                   []\n",
       "93    ['https://i5.walmartimages.com/seo/Night-Owl-1...\n",
       "94                                                   []\n",
       "95                                                   []\n",
       "96                                                   []\n",
       "Name: image_url, Length: 97, dtype: object"
      ]
     },
     "execution_count": 162,
     "metadata": {},
     "output_type": "execute_result"
    }
   ],
   "source": [
    "camera_data['image_url']"
   ]
  },
  {
   "cell_type": "code",
   "execution_count": 163,
   "id": "feee2427-3e93-4859-9aa5-bb154b0f29b6",
   "metadata": {},
   "outputs": [
    {
     "data": {
      "text/plain": [
       "\"https://i5.walmartimages.com/seo/Canon-EOS-R100-Mirrorless-Camera-with-18-45mm-and-55-210mm-Lenses-Kit_dce319e3-cffa-4592-852c-e6ff94a432a1.981ac9b56ec82660265e65a5420fac4d.jpeg?odnHeight=117&odnWidth=117&odnBg=FFFFFF',\""
      ]
     },
     "execution_count": 163,
     "metadata": {},
     "output_type": "execute_result"
    }
   ],
   "source": [
    "str(camera_data['image_url'][0][2:-2]).split(\" \")[0]"
   ]
  },
  {
   "cell_type": "code",
   "execution_count": 164,
   "id": "6ae1f1a6-92db-4487-b368-c0cd0df3462d",
   "metadata": {},
   "outputs": [],
   "source": [
    "def string_list(image_url):\n",
    "    for i,link in enumerate(image_url):\n",
    "        if len(link) > 0:\n",
    "            image_url[i] = link[2:-2] #used str(link[2:-2]).split(\" \")[0] for duplicate image_url\n",
    "        else:\n",
    "            image_url[i]  = None\n",
    "    return image_url"
   ]
  },
  {
   "cell_type": "code",
   "execution_count": 165,
   "id": "6ef6ca15-5ef5-4b78-af82-6e993e11bcfd",
   "metadata": {},
   "outputs": [],
   "source": [
    "camera_data['image_url'] = string_list(camera_data['image_url'])\n",
    "camera_data['product_details'] = string_list(camera_data['product_details'])\n",
    "camera_data['available_option'] = string_list(camera_data['available_option'])"
   ]
  },
  {
   "cell_type": "code",
   "execution_count": 166,
   "id": "10bb3a08-9688-49c1-b985-b5c29d7147bc",
   "metadata": {},
   "outputs": [
    {
     "data": {
      "text/plain": [
       "0     selected, Black, $598.00Black$598.00', 'Black ...\n",
       "1     selected, Black, $598.00Black$598.00', 'Black ...\n",
       "2     Black, $598.00Black$598.00', 'selected, Black ...\n",
       "3                                                      \n",
       "4                                                      \n",
       "                            ...                        \n",
       "92                                                     \n",
       "93                                                     \n",
       "94                                                     \n",
       "95    8, $16.778$16.77', 'selected, 16, $25.8616$25....\n",
       "96    8, $16.778$16.77', 'selected, 16, $25.8616$25....\n",
       "Name: available_option, Length: 97, dtype: object"
      ]
     },
     "execution_count": 166,
     "metadata": {},
     "output_type": "execute_result"
    }
   ],
   "source": [
    "camera_data['available_option']"
   ]
  },
  {
   "cell_type": "code",
   "execution_count": null,
   "id": "e2de8e6d-eb9c-4b22-aed1-3433e0e47ecd",
   "metadata": {},
   "outputs": [],
   "source": []
  }
 ],
 "metadata": {
  "kernelspec": {
   "display_name": "Python 3 (ipykernel)",
   "language": "python",
   "name": "python3"
  },
  "language_info": {
   "codemirror_mode": {
    "name": "ipython",
    "version": 3
   },
   "file_extension": ".py",
   "mimetype": "text/x-python",
   "name": "python",
   "nbconvert_exporter": "python",
   "pygments_lexer": "ipython3",
   "version": "3.11.2"
  }
 },
 "nbformat": 4,
 "nbformat_minor": 5
}
